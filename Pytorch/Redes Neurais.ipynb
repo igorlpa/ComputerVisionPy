{
 "cells": [
  {
   "cell_type": "markdown",
   "id": "d590de71-7749-424c-a695-9714f27d7418",
   "metadata": {},
   "source": [
    "# Redes Neurais com Pytorch\n",
    "\n",
    "Pytorch possibilita a criação de redes profundas com facilidade através do módulo 'nn'."
   ]
  },
  {
   "cell_type": "code",
   "execution_count": 2,
   "id": "6f353c32-ff2a-437d-8c88-a8ecbdc12d80",
   "metadata": {},
   "outputs": [],
   "source": [
    "import numpy as np\n",
    "import torch\n",
    "\n",
    "import matplotlib.pyplot as plt\n",
    "\n",
    "%matplotlib inline"
   ]
  },
  {
   "cell_type": "code",
   "execution_count": 3,
   "id": "8b183f30-f8e1-4ebd-bf74-3e2e46c17aa4",
   "metadata": {},
   "outputs": [],
   "source": [
    "import os\n",
    "os.environ['KMP_DUPLICATE_LIB_OK']='True'"
   ]
  },
  {
   "cell_type": "markdown",
   "id": "7bc32133-9364-442a-9045-0cdaac7547a5",
   "metadata": {},
   "source": [
    "Vamos usar o MNIST para esse teste, porém vamos usar como uma lista de valores  e não como uma imagem (CNN)"
   ]
  },
  {
   "cell_type": "code",
   "execution_count": 4,
   "id": "3e8a7fa6-d588-4ed3-80cf-70c9765cc6a4",
   "metadata": {},
   "outputs": [],
   "source": [
    "from torchvision import datasets, transforms"
   ]
  },
  {
   "cell_type": "code",
   "execution_count": 5,
   "id": "64c97d07-f846-4666-8799-b36a18a27e27",
   "metadata": {},
   "outputs": [],
   "source": [
    "# The MNIST datasets are hosted on yann.lecun.com that has moved under CloudFlare protection\n",
    "# Run this script to enable the datasets download\n",
    "# Reference: https://github.com/pytorch/vision/issues/1938\n",
    "\n",
    "from six.moves import urllib\n",
    "opener = urllib.request.build_opener()\n",
    "opener.addheaders = [('User-agent', 'Mozilla/5.0')]\n",
    "urllib.request.install_opener(opener)"
   ]
  },
  {
   "cell_type": "code",
   "execution_count": 6,
   "id": "f8d00fc4-08e1-494d-a097-ad91120a7061",
   "metadata": {},
   "outputs": [],
   "source": [
    "# definir a tranformação para normalizar os dados\n",
    "transform = transforms.Compose([\n",
    "    transforms.ToTensor(),\n",
    "    transforms.Normalize((0.5,), (0.5,))\n",
    "])\n"
   ]
  },
  {
   "cell_type": "code",
   "execution_count": 7,
   "id": "3357973e-0b7b-4067-b8d0-cd92843e7195",
   "metadata": {},
   "outputs": [],
   "source": [
    "# baixar o e caregar o dataset\n",
    "trainset = datasets.MNIST('MNIST_data/', download=True, train=True, transform=transform)\n",
    "trainloader = torch.utils.data.DataLoader(trainset, batch_size=64, shuffle=True)"
   ]
  },
  {
   "cell_type": "code",
   "execution_count": 8,
   "id": "8d5268e5-f4ef-4818-bbf2-dcd35119af00",
   "metadata": {},
   "outputs": [
    {
     "name": "stdout",
     "output_type": "stream",
     "text": [
      "<class 'torch.Tensor'>\n",
      "torch.Size([64, 1, 28, 28])\n",
      "torch.Size([64])\n"
     ]
    }
   ],
   "source": [
    "dataiter = iter(trainloader)\n",
    "images, labels = next(dataiter)\n",
    "\n",
    "print(type(images))\n",
    "print(images.shape)\n",
    "print(labels.shape)"
   ]
  },
  {
   "cell_type": "markdown",
   "id": "af7f85a7-d9a3-4837-acb1-7ee24c7caf74",
   "metadata": {},
   "source": [
    "Batchs de tamanho 64, como definido anteriormente, com amostras escolhidas randomicamente.\n",
    "\n",
    "[64, 1, 28, 28], 64 amostras, 1 canal, 28X28 é a dimensão \n"
   ]
  },
  {
   "cell_type": "code",
   "execution_count": 10,
   "id": "5d49df80-1d66-4700-aa37-3e740534ca40",
   "metadata": {},
   "outputs": [
    {
     "data": {
      "text/plain": [
       "<matplotlib.image.AxesImage at 0x1523696ad40>"
      ]
     },
     "execution_count": 10,
     "metadata": {},
     "output_type": "execute_result"
    },
    {
     "data": {
      "image/png": "[encoded data removed]",
      "text/plain": [
       "<Figure size 640x480 with 1 Axes>"
      ]
     },
     "metadata": {},
     "output_type": "display_data"
    }
   ],
   "source": [
    "plt.imshow(images[1].numpy().squeeze() ,cmap='Greys_r')"
   ]
  },
  {
   "cell_type": "markdown",
   "id": "081d123b-2f9c-42b9-b655-ece3ee1da6c2",
   "metadata": {},
   "source": [
    "## Implementação da rede"
   ]
  },
  {
   "cell_type": "code",
   "execution_count": 11,
   "id": "d3e3acee-1791-40a8-ba64-f5c691dd298e",
   "metadata": {},
   "outputs": [],
   "source": [
    "from torch import nn"
   ]
  },
  {
   "cell_type": "code",
   "execution_count": 19,
   "id": "d419aa65-456c-4900-bce8-01ee9ba9c297",
   "metadata": {},
   "outputs": [],
   "source": [
    "class Network(nn.Module):\n",
    "    \n",
    "    def __init__(self):\n",
    "        super().__init__()\n",
    "        \n",
    "        #camadas\n",
    "        self.hidden1 = nn.Linear(784, 128)\n",
    "        self.hidden2 = nn.Linear(128, 64)\n",
    "        self.output = nn.Linear( 64, 10)\n",
    "        \n",
    "        # funções de ativação\n",
    "        self.relu = nn.ReLU()\n",
    "        self.softmax = nn.Softmax()\n",
    "        \n",
    "        \n",
    "    def forward(self, x):\n",
    "        x = self.hidden1(x)\n",
    "        x = self.relu(x)\n",
    "        x = self.hidden2(x)\n",
    "        x = self.relu(x)\n",
    "        x = self.output(x)\n",
    "        x = self.softmax(x)\n",
    "        return x\n",
    "        "
   ]
  },
  {
   "cell_type": "code",
   "execution_count": 20,
   "id": "19a18a17-b79e-4843-aefc-befa64050a38",
   "metadata": {},
   "outputs": [],
   "source": [
    "model = Network()"
   ]
  },
  {
   "cell_type": "code",
   "execution_count": 21,
   "id": "42e8fc64-cc74-4c28-96b8-feec4cea2b8b",
   "metadata": {},
   "outputs": [
    {
     "data": {
      "text/plain": [
       "Network(\n",
       "  (hidden1): Linear(in_features=784, out_features=128, bias=True)\n",
       "  (hidden2): Linear(in_features=128, out_features=64, bias=True)\n",
       "  (output): Linear(in_features=64, out_features=10, bias=True)\n",
       "  (relu): ReLU()\n",
       "  (softmax): Softmax(dim=None)\n",
       ")"
      ]
     },
     "execution_count": 21,
     "metadata": {},
     "output_type": "execute_result"
    }
   ],
   "source": [
    "model"
   ]
  },
  {
   "cell_type": "markdown",
   "id": "4dfe46b4-a065-43fb-8ab7-2a43ba0e9ab7",
   "metadata": {},
   "source": [
    "### Implementando mesma redo usando **torch.nn.functional**"
   ]
  },
  {
   "cell_type": "code",
   "execution_count": 22,
   "id": "789d5ee3-b49c-4bdf-998c-752bd941d95d",
   "metadata": {},
   "outputs": [],
   "source": [
    "import torch.nn.functional as F"
   ]
  },
  {
   "cell_type": "code",
   "execution_count": 23,
   "id": "4a06ef0a-4971-4387-938a-09ec51246180",
   "metadata": {},
   "outputs": [],
   "source": [
    "class Network2(nn.Module):\n",
    "    \n",
    "    def __init__(self):\n",
    "        super().__init__()\n",
    "        \n",
    "        #camadas\n",
    "        self.hidden1 = nn.Linear(784, 128)\n",
    "        self.hidden2 = nn.Linear(128, 64)\n",
    "        self.output = nn.Linear( 64, 10)\n",
    "        \n",
    "        \n",
    "        \n",
    "    def forward(self, x):\n",
    "        x = F.relu( self.hidden1(x))\n",
    "        x = F.relu( self.hidden2(x))\n",
    "        x = F.softmax( self.output(x))\n",
    "        \n",
    "        return x\n",
    "        "
   ]
  },
  {
   "cell_type": "code",
   "execution_count": 24,
   "id": "c4d79fe3-750b-41c2-9a42-debe92a6d798",
   "metadata": {},
   "outputs": [
    {
     "data": {
      "text/plain": [
       "Network2(\n",
       "  (hidden1): Linear(in_features=784, out_features=128, bias=True)\n",
       "  (hidden2): Linear(in_features=128, out_features=64, bias=True)\n",
       "  (output): Linear(in_features=64, out_features=10, bias=True)\n",
       ")"
      ]
     },
     "execution_count": 24,
     "metadata": {},
     "output_type": "execute_result"
    }
   ],
   "source": [
    "model2 = Network2()\n",
    "model2"
   ]
  },
  {
   "cell_type": "code",
   "execution_count": null,
   "id": "52b735a1-c933-40a6-8985-6ca5b72fc116",
   "metadata": {},
   "outputs": [],
   "source": []
  }
 ],
 "metadata": {
  "kernelspec": {
   "display_name": "Python 3 (ipykernel)",
   "language": "python",
   "name": "python3"
  },
  "language_info": {
   "codemirror_mode": {
    "name": "ipython",
    "version": 3
   },
   "file_extension": ".py",
   "mimetype": "text/x-python",
   "name": "python",
   "nbconvert_exporter": "python",
   "pygments_lexer": "ipython3",
   "version": "3.10.9"
  }
 },
 "nbformat": 4,
 "nbformat_minor": 5
}
